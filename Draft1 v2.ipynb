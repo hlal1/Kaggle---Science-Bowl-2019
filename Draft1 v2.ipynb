{
 "cells": [
  {
   "cell_type": "code",
   "execution_count": 1,
   "metadata": {},
   "outputs": [],
   "source": [
    "import numpy as np\n",
    "import pandas as pd"
   ]
  },
  {
   "cell_type": "code",
   "execution_count": 2,
   "metadata": {},
   "outputs": [],
   "source": [
    "import matplotlib.pyplot as plt\n",
    "import seaborn as sns"
   ]
  },
  {
   "cell_type": "code",
   "execution_count": 3,
   "metadata": {},
   "outputs": [],
   "source": [
    "%matplotlib inline"
   ]
  },
  {
   "cell_type": "code",
   "execution_count": 4,
   "metadata": {},
   "outputs": [],
   "source": [
    "train_df = pd.read_csv('train.csv')"
   ]
  },
  {
   "cell_type": "code",
   "execution_count": 11,
   "metadata": {},
   "outputs": [],
   "source": [
    "train_asses = train_df[train_df['type'] == 'Assessment']"
   ]
  },
  {
   "cell_type": "code",
   "execution_count": 12,
   "metadata": {},
   "outputs": [
    {
     "data": {
      "text/html": [
       "<div>\n",
       "<style scoped>\n",
       "    .dataframe tbody tr th:only-of-type {\n",
       "        vertical-align: middle;\n",
       "    }\n",
       "\n",
       "    .dataframe tbody tr th {\n",
       "        vertical-align: top;\n",
       "    }\n",
       "\n",
       "    .dataframe thead th {\n",
       "        text-align: right;\n",
       "    }\n",
       "</style>\n",
       "<table border=\"1\" class=\"dataframe\">\n",
       "  <thead>\n",
       "    <tr style=\"text-align: right;\">\n",
       "      <th></th>\n",
       "      <th>event_id</th>\n",
       "      <th>game_session</th>\n",
       "      <th>timestamp</th>\n",
       "      <th>event_data</th>\n",
       "      <th>installation_id</th>\n",
       "      <th>event_count</th>\n",
       "      <th>event_code</th>\n",
       "      <th>game_time</th>\n",
       "      <th>title</th>\n",
       "      <th>type</th>\n",
       "      <th>world</th>\n",
       "    </tr>\n",
       "  </thead>\n",
       "  <tbody>\n",
       "    <tr>\n",
       "      <th>2185</th>\n",
       "      <td>3bfd1a65</td>\n",
       "      <td>901acc108f55a5a1</td>\n",
       "      <td>2019-08-06T05:22:01.344Z</td>\n",
       "      <td>{\"version\":\"1.0\",\"event_count\":1,\"game_time\":0...</td>\n",
       "      <td>0006a69f</td>\n",
       "      <td>1</td>\n",
       "      <td>2000</td>\n",
       "      <td>0</td>\n",
       "      <td>Mushroom Sorter (Assessment)</td>\n",
       "      <td>Assessment</td>\n",
       "      <td>TREETOPCITY</td>\n",
       "    </tr>\n",
       "    <tr>\n",
       "      <th>2186</th>\n",
       "      <td>db02c830</td>\n",
       "      <td>901acc108f55a5a1</td>\n",
       "      <td>2019-08-06T05:22:01.400Z</td>\n",
       "      <td>{\"event_count\":2,\"game_time\":37,\"event_code\":2...</td>\n",
       "      <td>0006a69f</td>\n",
       "      <td>2</td>\n",
       "      <td>2025</td>\n",
       "      <td>37</td>\n",
       "      <td>Mushroom Sorter (Assessment)</td>\n",
       "      <td>Assessment</td>\n",
       "      <td>TREETOPCITY</td>\n",
       "    </tr>\n",
       "    <tr>\n",
       "      <th>2187</th>\n",
       "      <td>a1e4395d</td>\n",
       "      <td>901acc108f55a5a1</td>\n",
       "      <td>2019-08-06T05:22:01.403Z</td>\n",
       "      <td>{\"description\":\"Pull three mushrooms out of th...</td>\n",
       "      <td>0006a69f</td>\n",
       "      <td>3</td>\n",
       "      <td>3010</td>\n",
       "      <td>37</td>\n",
       "      <td>Mushroom Sorter (Assessment)</td>\n",
       "      <td>Assessment</td>\n",
       "      <td>TREETOPCITY</td>\n",
       "    </tr>\n",
       "    <tr>\n",
       "      <th>2188</th>\n",
       "      <td>a52b92d5</td>\n",
       "      <td>901acc108f55a5a1</td>\n",
       "      <td>2019-08-06T05:22:05.242Z</td>\n",
       "      <td>{\"description\":\"Pull three mushrooms out of th...</td>\n",
       "      <td>0006a69f</td>\n",
       "      <td>4</td>\n",
       "      <td>3110</td>\n",
       "      <td>3901</td>\n",
       "      <td>Mushroom Sorter (Assessment)</td>\n",
       "      <td>Assessment</td>\n",
       "      <td>TREETOPCITY</td>\n",
       "    </tr>\n",
       "    <tr>\n",
       "      <th>2189</th>\n",
       "      <td>a1e4395d</td>\n",
       "      <td>901acc108f55a5a1</td>\n",
       "      <td>2019-08-06T05:22:05.244Z</td>\n",
       "      <td>{\"description\":\"To pick a mushroom, pull it ou...</td>\n",
       "      <td>0006a69f</td>\n",
       "      <td>5</td>\n",
       "      <td>3010</td>\n",
       "      <td>3901</td>\n",
       "      <td>Mushroom Sorter (Assessment)</td>\n",
       "      <td>Assessment</td>\n",
       "      <td>TREETOPCITY</td>\n",
       "    </tr>\n",
       "  </tbody>\n",
       "</table>\n",
       "</div>"
      ],
      "text/plain": [
       "      event_id      game_session                 timestamp  \\\n",
       "2185  3bfd1a65  901acc108f55a5a1  2019-08-06T05:22:01.344Z   \n",
       "2186  db02c830  901acc108f55a5a1  2019-08-06T05:22:01.400Z   \n",
       "2187  a1e4395d  901acc108f55a5a1  2019-08-06T05:22:01.403Z   \n",
       "2188  a52b92d5  901acc108f55a5a1  2019-08-06T05:22:05.242Z   \n",
       "2189  a1e4395d  901acc108f55a5a1  2019-08-06T05:22:05.244Z   \n",
       "\n",
       "                                             event_data installation_id  \\\n",
       "2185  {\"version\":\"1.0\",\"event_count\":1,\"game_time\":0...        0006a69f   \n",
       "2186  {\"event_count\":2,\"game_time\":37,\"event_code\":2...        0006a69f   \n",
       "2187  {\"description\":\"Pull three mushrooms out of th...        0006a69f   \n",
       "2188  {\"description\":\"Pull three mushrooms out of th...        0006a69f   \n",
       "2189  {\"description\":\"To pick a mushroom, pull it ou...        0006a69f   \n",
       "\n",
       "      event_count  event_code  game_time                         title  \\\n",
       "2185            1        2000          0  Mushroom Sorter (Assessment)   \n",
       "2186            2        2025         37  Mushroom Sorter (Assessment)   \n",
       "2187            3        3010         37  Mushroom Sorter (Assessment)   \n",
       "2188            4        3110       3901  Mushroom Sorter (Assessment)   \n",
       "2189            5        3010       3901  Mushroom Sorter (Assessment)   \n",
       "\n",
       "            type        world  \n",
       "2185  Assessment  TREETOPCITY  \n",
       "2186  Assessment  TREETOPCITY  \n",
       "2187  Assessment  TREETOPCITY  \n",
       "2188  Assessment  TREETOPCITY  \n",
       "2189  Assessment  TREETOPCITY  "
      ]
     },
     "execution_count": 12,
     "metadata": {},
     "output_type": "execute_result"
    }
   ],
   "source": [
    "train_asses.head()"
   ]
  },
  {
   "cell_type": "code",
   "execution_count": 13,
   "metadata": {},
   "outputs": [
    {
     "name": "stderr",
     "output_type": "stream",
     "text": [
      "/home/harsh/anaconda3/lib/python3.7/site-packages/pandas/core/frame.py:3940: SettingWithCopyWarning: \n",
      "A value is trying to be set on a copy of a slice from a DataFrame\n",
      "\n",
      "See the caveats in the documentation: http://pandas.pydata.org/pandas-docs/stable/indexing.html#indexing-view-versus-copy\n",
      "  errors=errors)\n"
     ]
    }
   ],
   "source": [
    "train_asses.drop(['event_data', 'timestamp', 'event_code', 'event_id'], axis=1, inplace=True)"
   ]
  },
  {
   "cell_type": "code",
   "execution_count": 30,
   "metadata": {},
   "outputs": [
    {
     "data": {
      "text/html": [
       "<div>\n",
       "<style scoped>\n",
       "    .dataframe tbody tr th:only-of-type {\n",
       "        vertical-align: middle;\n",
       "    }\n",
       "\n",
       "    .dataframe tbody tr th {\n",
       "        vertical-align: top;\n",
       "    }\n",
       "\n",
       "    .dataframe thead th {\n",
       "        text-align: right;\n",
       "    }\n",
       "</style>\n",
       "<table border=\"1\" class=\"dataframe\">\n",
       "  <thead>\n",
       "    <tr style=\"text-align: right;\">\n",
       "      <th></th>\n",
       "      <th>game_session</th>\n",
       "      <th>installation_id</th>\n",
       "      <th>event_count</th>\n",
       "      <th>game_time</th>\n",
       "      <th>title</th>\n",
       "      <th>type</th>\n",
       "      <th>world</th>\n",
       "    </tr>\n",
       "  </thead>\n",
       "  <tbody>\n",
       "    <tr>\n",
       "      <th>2185</th>\n",
       "      <td>901acc108f55a5a1</td>\n",
       "      <td>0006a69f</td>\n",
       "      <td>1</td>\n",
       "      <td>0</td>\n",
       "      <td>Mushroom Sorter (Assessment)</td>\n",
       "      <td>Assessment</td>\n",
       "      <td>TREETOPCITY</td>\n",
       "    </tr>\n",
       "    <tr>\n",
       "      <th>2186</th>\n",
       "      <td>901acc108f55a5a1</td>\n",
       "      <td>0006a69f</td>\n",
       "      <td>2</td>\n",
       "      <td>37</td>\n",
       "      <td>Mushroom Sorter (Assessment)</td>\n",
       "      <td>Assessment</td>\n",
       "      <td>TREETOPCITY</td>\n",
       "    </tr>\n",
       "    <tr>\n",
       "      <th>2187</th>\n",
       "      <td>901acc108f55a5a1</td>\n",
       "      <td>0006a69f</td>\n",
       "      <td>3</td>\n",
       "      <td>37</td>\n",
       "      <td>Mushroom Sorter (Assessment)</td>\n",
       "      <td>Assessment</td>\n",
       "      <td>TREETOPCITY</td>\n",
       "    </tr>\n",
       "    <tr>\n",
       "      <th>2188</th>\n",
       "      <td>901acc108f55a5a1</td>\n",
       "      <td>0006a69f</td>\n",
       "      <td>4</td>\n",
       "      <td>3901</td>\n",
       "      <td>Mushroom Sorter (Assessment)</td>\n",
       "      <td>Assessment</td>\n",
       "      <td>TREETOPCITY</td>\n",
       "    </tr>\n",
       "    <tr>\n",
       "      <th>2189</th>\n",
       "      <td>901acc108f55a5a1</td>\n",
       "      <td>0006a69f</td>\n",
       "      <td>5</td>\n",
       "      <td>3901</td>\n",
       "      <td>Mushroom Sorter (Assessment)</td>\n",
       "      <td>Assessment</td>\n",
       "      <td>TREETOPCITY</td>\n",
       "    </tr>\n",
       "  </tbody>\n",
       "</table>\n",
       "</div>"
      ],
      "text/plain": [
       "          game_session installation_id  event_count  game_time  \\\n",
       "2185  901acc108f55a5a1        0006a69f            1          0   \n",
       "2186  901acc108f55a5a1        0006a69f            2         37   \n",
       "2187  901acc108f55a5a1        0006a69f            3         37   \n",
       "2188  901acc108f55a5a1        0006a69f            4       3901   \n",
       "2189  901acc108f55a5a1        0006a69f            5       3901   \n",
       "\n",
       "                             title        type        world  \n",
       "2185  Mushroom Sorter (Assessment)  Assessment  TREETOPCITY  \n",
       "2186  Mushroom Sorter (Assessment)  Assessment  TREETOPCITY  \n",
       "2187  Mushroom Sorter (Assessment)  Assessment  TREETOPCITY  \n",
       "2188  Mushroom Sorter (Assessment)  Assessment  TREETOPCITY  \n",
       "2189  Mushroom Sorter (Assessment)  Assessment  TREETOPCITY  "
      ]
     },
     "execution_count": 30,
     "metadata": {},
     "output_type": "execute_result"
    }
   ],
   "source": [
    "train_asses.head()"
   ]
  },
  {
   "cell_type": "code",
   "execution_count": 31,
   "metadata": {},
   "outputs": [
    {
     "name": "stdout",
     "output_type": "stream",
     "text": [
      "<class 'pandas.core.frame.DataFrame'>\n",
      "Int64Index: 925345 entries, 2185 to 11337825\n",
      "Data columns (total 7 columns):\n",
      "game_session       925345 non-null object\n",
      "installation_id    925345 non-null object\n",
      "event_count        925345 non-null int64\n",
      "game_time          925345 non-null int64\n",
      "title              925345 non-null object\n",
      "type               925345 non-null object\n",
      "world              925345 non-null object\n",
      "dtypes: int64(2), object(5)\n",
      "memory usage: 56.5+ MB\n"
     ]
    }
   ],
   "source": [
    "train_asses.info()"
   ]
  },
  {
   "cell_type": "code",
   "execution_count": 178,
   "metadata": {},
   "outputs": [],
   "source": [
    "train_comb = train_asses.groupby('game_session').max()"
   ]
  },
  {
   "cell_type": "code",
   "execution_count": 179,
   "metadata": {},
   "outputs": [],
   "source": [
    "train_comb.reset_index(inplace=True)"
   ]
  },
  {
   "cell_type": "code",
   "execution_count": 180,
   "metadata": {},
   "outputs": [
    {
     "data": {
      "text/html": [
       "<div>\n",
       "<style scoped>\n",
       "    .dataframe tbody tr th:only-of-type {\n",
       "        vertical-align: middle;\n",
       "    }\n",
       "\n",
       "    .dataframe tbody tr th {\n",
       "        vertical-align: top;\n",
       "    }\n",
       "\n",
       "    .dataframe thead th {\n",
       "        text-align: right;\n",
       "    }\n",
       "</style>\n",
       "<table border=\"1\" class=\"dataframe\">\n",
       "  <thead>\n",
       "    <tr style=\"text-align: right;\">\n",
       "      <th></th>\n",
       "      <th>game_session</th>\n",
       "      <th>installation_id</th>\n",
       "      <th>event_count</th>\n",
       "      <th>game_time</th>\n",
       "      <th>title</th>\n",
       "      <th>type</th>\n",
       "      <th>world</th>\n",
       "    </tr>\n",
       "  </thead>\n",
       "  <tbody>\n",
       "    <tr>\n",
       "      <th>0</th>\n",
       "      <td>00097cda27afb726</td>\n",
       "      <td>01bdd720</td>\n",
       "      <td>36</td>\n",
       "      <td>27810</td>\n",
       "      <td>Mushroom Sorter (Assessment)</td>\n",
       "      <td>Assessment</td>\n",
       "      <td>TREETOPCITY</td>\n",
       "    </tr>\n",
       "    <tr>\n",
       "      <th>1</th>\n",
       "      <td>000f68cff32664ef</td>\n",
       "      <td>3f0dca37</td>\n",
       "      <td>201</td>\n",
       "      <td>118447</td>\n",
       "      <td>Chest Sorter (Assessment)</td>\n",
       "      <td>Assessment</td>\n",
       "      <td>CRYSTALCAVES</td>\n",
       "    </tr>\n",
       "    <tr>\n",
       "      <th>2</th>\n",
       "      <td>0014403daadf67aa</td>\n",
       "      <td>29d1aaee</td>\n",
       "      <td>79</td>\n",
       "      <td>719990</td>\n",
       "      <td>Bird Measurer (Assessment)</td>\n",
       "      <td>Assessment</td>\n",
       "      <td>TREETOPCITY</td>\n",
       "    </tr>\n",
       "    <tr>\n",
       "      <th>3</th>\n",
       "      <td>0014daa1d3e26eb2</td>\n",
       "      <td>55fdf49f</td>\n",
       "      <td>72</td>\n",
       "      <td>61995</td>\n",
       "      <td>Mushroom Sorter (Assessment)</td>\n",
       "      <td>Assessment</td>\n",
       "      <td>TREETOPCITY</td>\n",
       "    </tr>\n",
       "    <tr>\n",
       "      <th>4</th>\n",
       "      <td>0018a3df8beb755e</td>\n",
       "      <td>b204dbaf</td>\n",
       "      <td>3</td>\n",
       "      <td>79</td>\n",
       "      <td>Cart Balancer (Assessment)</td>\n",
       "      <td>Assessment</td>\n",
       "      <td>CRYSTALCAVES</td>\n",
       "    </tr>\n",
       "  </tbody>\n",
       "</table>\n",
       "</div>"
      ],
      "text/plain": [
       "       game_session installation_id  event_count  game_time  \\\n",
       "0  00097cda27afb726        01bdd720           36      27810   \n",
       "1  000f68cff32664ef        3f0dca37          201     118447   \n",
       "2  0014403daadf67aa        29d1aaee           79     719990   \n",
       "3  0014daa1d3e26eb2        55fdf49f           72      61995   \n",
       "4  0018a3df8beb755e        b204dbaf            3         79   \n",
       "\n",
       "                          title        type         world  \n",
       "0  Mushroom Sorter (Assessment)  Assessment   TREETOPCITY  \n",
       "1     Chest Sorter (Assessment)  Assessment  CRYSTALCAVES  \n",
       "2    Bird Measurer (Assessment)  Assessment   TREETOPCITY  \n",
       "3  Mushroom Sorter (Assessment)  Assessment   TREETOPCITY  \n",
       "4    Cart Balancer (Assessment)  Assessment  CRYSTALCAVES  "
      ]
     },
     "execution_count": 180,
     "metadata": {},
     "output_type": "execute_result"
    }
   ],
   "source": [
    "train_comb.head()"
   ]
  },
  {
   "cell_type": "code",
   "execution_count": null,
   "metadata": {},
   "outputs": [],
   "source": []
  },
  {
   "cell_type": "code",
   "execution_count": 181,
   "metadata": {},
   "outputs": [],
   "source": [
    "train_lb = pd.read_csv('train_labels.csv')"
   ]
  },
  {
   "cell_type": "code",
   "execution_count": 90,
   "metadata": {},
   "outputs": [],
   "source": [
    "train_lb.drop(['num_correct', 'num_incorrect', 'accuracy'], axis=1, inplace=True)"
   ]
  },
  {
   "cell_type": "code",
   "execution_count": 91,
   "metadata": {},
   "outputs": [
    {
     "data": {
      "text/html": [
       "<div>\n",
       "<style scoped>\n",
       "    .dataframe tbody tr th:only-of-type {\n",
       "        vertical-align: middle;\n",
       "    }\n",
       "\n",
       "    .dataframe tbody tr th {\n",
       "        vertical-align: top;\n",
       "    }\n",
       "\n",
       "    .dataframe thead th {\n",
       "        text-align: right;\n",
       "    }\n",
       "</style>\n",
       "<table border=\"1\" class=\"dataframe\">\n",
       "  <thead>\n",
       "    <tr style=\"text-align: right;\">\n",
       "      <th></th>\n",
       "      <th>game_session</th>\n",
       "      <th>installation_id</th>\n",
       "      <th>title</th>\n",
       "      <th>accuracy_group</th>\n",
       "    </tr>\n",
       "  </thead>\n",
       "  <tbody>\n",
       "    <tr>\n",
       "      <th>0</th>\n",
       "      <td>6bdf9623adc94d89</td>\n",
       "      <td>0006a69f</td>\n",
       "      <td>Mushroom Sorter (Assessment)</td>\n",
       "      <td>3</td>\n",
       "    </tr>\n",
       "    <tr>\n",
       "      <th>1</th>\n",
       "      <td>77b8ee947eb84b4e</td>\n",
       "      <td>0006a69f</td>\n",
       "      <td>Bird Measurer (Assessment)</td>\n",
       "      <td>0</td>\n",
       "    </tr>\n",
       "    <tr>\n",
       "      <th>2</th>\n",
       "      <td>901acc108f55a5a1</td>\n",
       "      <td>0006a69f</td>\n",
       "      <td>Mushroom Sorter (Assessment)</td>\n",
       "      <td>3</td>\n",
       "    </tr>\n",
       "    <tr>\n",
       "      <th>3</th>\n",
       "      <td>9501794defd84e4d</td>\n",
       "      <td>0006a69f</td>\n",
       "      <td>Mushroom Sorter (Assessment)</td>\n",
       "      <td>2</td>\n",
       "    </tr>\n",
       "    <tr>\n",
       "      <th>4</th>\n",
       "      <td>a9ef3ecb3d1acc6a</td>\n",
       "      <td>0006a69f</td>\n",
       "      <td>Bird Measurer (Assessment)</td>\n",
       "      <td>3</td>\n",
       "    </tr>\n",
       "  </tbody>\n",
       "</table>\n",
       "</div>"
      ],
      "text/plain": [
       "       game_session installation_id                         title  \\\n",
       "0  6bdf9623adc94d89        0006a69f  Mushroom Sorter (Assessment)   \n",
       "1  77b8ee947eb84b4e        0006a69f    Bird Measurer (Assessment)   \n",
       "2  901acc108f55a5a1        0006a69f  Mushroom Sorter (Assessment)   \n",
       "3  9501794defd84e4d        0006a69f  Mushroom Sorter (Assessment)   \n",
       "4  a9ef3ecb3d1acc6a        0006a69f    Bird Measurer (Assessment)   \n",
       "\n",
       "   accuracy_group  \n",
       "0               3  \n",
       "1               0  \n",
       "2               3  \n",
       "3               2  \n",
       "4               3  "
      ]
     },
     "execution_count": 91,
     "metadata": {},
     "output_type": "execute_result"
    }
   ],
   "source": [
    "train_lb.head()"
   ]
  },
  {
   "cell_type": "code",
   "execution_count": 92,
   "metadata": {},
   "outputs": [],
   "source": [
    "train_final = pd.merge(train_comb, train_lb, on=['game_session', 'installation_id', 'title'], how='outer')"
   ]
  },
  {
   "cell_type": "code",
   "execution_count": 93,
   "metadata": {},
   "outputs": [],
   "source": [
    "train_final.dropna(inplace=True)"
   ]
  },
  {
   "cell_type": "code",
   "execution_count": 94,
   "metadata": {},
   "outputs": [],
   "source": [
    "train_final.drop('type', axis=1, inplace=True)"
   ]
  },
  {
   "cell_type": "code",
   "execution_count": 95,
   "metadata": {},
   "outputs": [
    {
     "data": {
      "text/html": [
       "<div>\n",
       "<style scoped>\n",
       "    .dataframe tbody tr th:only-of-type {\n",
       "        vertical-align: middle;\n",
       "    }\n",
       "\n",
       "    .dataframe tbody tr th {\n",
       "        vertical-align: top;\n",
       "    }\n",
       "\n",
       "    .dataframe thead th {\n",
       "        text-align: right;\n",
       "    }\n",
       "</style>\n",
       "<table border=\"1\" class=\"dataframe\">\n",
       "  <thead>\n",
       "    <tr style=\"text-align: right;\">\n",
       "      <th></th>\n",
       "      <th>game_session</th>\n",
       "      <th>installation_id</th>\n",
       "      <th>event_count</th>\n",
       "      <th>game_time</th>\n",
       "      <th>title</th>\n",
       "      <th>world</th>\n",
       "      <th>accuracy_group</th>\n",
       "    </tr>\n",
       "  </thead>\n",
       "  <tbody>\n",
       "    <tr>\n",
       "      <th>0</th>\n",
       "      <td>00097cda27afb726</td>\n",
       "      <td>01bdd720</td>\n",
       "      <td>36</td>\n",
       "      <td>27810</td>\n",
       "      <td>Mushroom Sorter (Assessment)</td>\n",
       "      <td>TREETOPCITY</td>\n",
       "      <td>3.0</td>\n",
       "    </tr>\n",
       "    <tr>\n",
       "      <th>1</th>\n",
       "      <td>000f68cff32664ef</td>\n",
       "      <td>3f0dca37</td>\n",
       "      <td>201</td>\n",
       "      <td>118447</td>\n",
       "      <td>Chest Sorter (Assessment)</td>\n",
       "      <td>CRYSTALCAVES</td>\n",
       "      <td>0.0</td>\n",
       "    </tr>\n",
       "    <tr>\n",
       "      <th>2</th>\n",
       "      <td>0014403daadf67aa</td>\n",
       "      <td>29d1aaee</td>\n",
       "      <td>79</td>\n",
       "      <td>719990</td>\n",
       "      <td>Bird Measurer (Assessment)</td>\n",
       "      <td>TREETOPCITY</td>\n",
       "      <td>1.0</td>\n",
       "    </tr>\n",
       "    <tr>\n",
       "      <th>3</th>\n",
       "      <td>0014daa1d3e26eb2</td>\n",
       "      <td>55fdf49f</td>\n",
       "      <td>72</td>\n",
       "      <td>61995</td>\n",
       "      <td>Mushroom Sorter (Assessment)</td>\n",
       "      <td>TREETOPCITY</td>\n",
       "      <td>1.0</td>\n",
       "    </tr>\n",
       "    <tr>\n",
       "      <th>5</th>\n",
       "      <td>001c49e9e9968dbe</td>\n",
       "      <td>19d4b097</td>\n",
       "      <td>43</td>\n",
       "      <td>39023</td>\n",
       "      <td>Bird Measurer (Assessment)</td>\n",
       "      <td>TREETOPCITY</td>\n",
       "      <td>2.0</td>\n",
       "    </tr>\n",
       "  </tbody>\n",
       "</table>\n",
       "</div>"
      ],
      "text/plain": [
       "       game_session installation_id  event_count  game_time  \\\n",
       "0  00097cda27afb726        01bdd720           36      27810   \n",
       "1  000f68cff32664ef        3f0dca37          201     118447   \n",
       "2  0014403daadf67aa        29d1aaee           79     719990   \n",
       "3  0014daa1d3e26eb2        55fdf49f           72      61995   \n",
       "5  001c49e9e9968dbe        19d4b097           43      39023   \n",
       "\n",
       "                          title         world  accuracy_group  \n",
       "0  Mushroom Sorter (Assessment)   TREETOPCITY             3.0  \n",
       "1     Chest Sorter (Assessment)  CRYSTALCAVES             0.0  \n",
       "2    Bird Measurer (Assessment)   TREETOPCITY             1.0  \n",
       "3  Mushroom Sorter (Assessment)   TREETOPCITY             1.0  \n",
       "5    Bird Measurer (Assessment)   TREETOPCITY             2.0  "
      ]
     },
     "execution_count": 95,
     "metadata": {},
     "output_type": "execute_result"
    }
   ],
   "source": [
    "train_final.head()"
   ]
  },
  {
   "cell_type": "code",
   "execution_count": 96,
   "metadata": {},
   "outputs": [],
   "source": [
    "train_final['total_assesments'] = 1"
   ]
  },
  {
   "cell_type": "code",
   "execution_count": 101,
   "metadata": {},
   "outputs": [],
   "source": [
    "train_final['accuracy_group'] = train_final['accuracy_group'].apply(lambda x: int(x))"
   ]
  },
  {
   "cell_type": "code",
   "execution_count": 102,
   "metadata": {},
   "outputs": [
    {
     "data": {
      "text/html": [
       "<div>\n",
       "<style scoped>\n",
       "    .dataframe tbody tr th:only-of-type {\n",
       "        vertical-align: middle;\n",
       "    }\n",
       "\n",
       "    .dataframe tbody tr th {\n",
       "        vertical-align: top;\n",
       "    }\n",
       "\n",
       "    .dataframe thead th {\n",
       "        text-align: right;\n",
       "    }\n",
       "</style>\n",
       "<table border=\"1\" class=\"dataframe\">\n",
       "  <thead>\n",
       "    <tr style=\"text-align: right;\">\n",
       "      <th></th>\n",
       "      <th>game_session</th>\n",
       "      <th>installation_id</th>\n",
       "      <th>event_count</th>\n",
       "      <th>game_time</th>\n",
       "      <th>title</th>\n",
       "      <th>world</th>\n",
       "      <th>accuracy_group</th>\n",
       "      <th>total_assesments</th>\n",
       "    </tr>\n",
       "  </thead>\n",
       "  <tbody>\n",
       "    <tr>\n",
       "      <th>0</th>\n",
       "      <td>00097cda27afb726</td>\n",
       "      <td>01bdd720</td>\n",
       "      <td>36</td>\n",
       "      <td>27810</td>\n",
       "      <td>Mushroom Sorter (Assessment)</td>\n",
       "      <td>TREETOPCITY</td>\n",
       "      <td>3</td>\n",
       "      <td>1</td>\n",
       "    </tr>\n",
       "    <tr>\n",
       "      <th>1</th>\n",
       "      <td>000f68cff32664ef</td>\n",
       "      <td>3f0dca37</td>\n",
       "      <td>201</td>\n",
       "      <td>118447</td>\n",
       "      <td>Chest Sorter (Assessment)</td>\n",
       "      <td>CRYSTALCAVES</td>\n",
       "      <td>0</td>\n",
       "      <td>1</td>\n",
       "    </tr>\n",
       "    <tr>\n",
       "      <th>2</th>\n",
       "      <td>0014403daadf67aa</td>\n",
       "      <td>29d1aaee</td>\n",
       "      <td>79</td>\n",
       "      <td>719990</td>\n",
       "      <td>Bird Measurer (Assessment)</td>\n",
       "      <td>TREETOPCITY</td>\n",
       "      <td>1</td>\n",
       "      <td>1</td>\n",
       "    </tr>\n",
       "    <tr>\n",
       "      <th>3</th>\n",
       "      <td>0014daa1d3e26eb2</td>\n",
       "      <td>55fdf49f</td>\n",
       "      <td>72</td>\n",
       "      <td>61995</td>\n",
       "      <td>Mushroom Sorter (Assessment)</td>\n",
       "      <td>TREETOPCITY</td>\n",
       "      <td>1</td>\n",
       "      <td>1</td>\n",
       "    </tr>\n",
       "    <tr>\n",
       "      <th>5</th>\n",
       "      <td>001c49e9e9968dbe</td>\n",
       "      <td>19d4b097</td>\n",
       "      <td>43</td>\n",
       "      <td>39023</td>\n",
       "      <td>Bird Measurer (Assessment)</td>\n",
       "      <td>TREETOPCITY</td>\n",
       "      <td>2</td>\n",
       "      <td>1</td>\n",
       "    </tr>\n",
       "  </tbody>\n",
       "</table>\n",
       "</div>"
      ],
      "text/plain": [
       "       game_session installation_id  event_count  game_time  \\\n",
       "0  00097cda27afb726        01bdd720           36      27810   \n",
       "1  000f68cff32664ef        3f0dca37          201     118447   \n",
       "2  0014403daadf67aa        29d1aaee           79     719990   \n",
       "3  0014daa1d3e26eb2        55fdf49f           72      61995   \n",
       "5  001c49e9e9968dbe        19d4b097           43      39023   \n",
       "\n",
       "                          title         world  accuracy_group  \\\n",
       "0  Mushroom Sorter (Assessment)   TREETOPCITY               3   \n",
       "1     Chest Sorter (Assessment)  CRYSTALCAVES               0   \n",
       "2    Bird Measurer (Assessment)   TREETOPCITY               1   \n",
       "3  Mushroom Sorter (Assessment)   TREETOPCITY               1   \n",
       "5    Bird Measurer (Assessment)   TREETOPCITY               2   \n",
       "\n",
       "   total_assesments  \n",
       "0                 1  \n",
       "1                 1  \n",
       "2                 1  \n",
       "3                 1  \n",
       "5                 1  "
      ]
     },
     "execution_count": 102,
     "metadata": {},
     "output_type": "execute_result"
    }
   ],
   "source": [
    "train_final.head()"
   ]
  },
  {
   "cell_type": "code",
   "execution_count": 103,
   "metadata": {},
   "outputs": [],
   "source": [
    "from sklearn.preprocessing import LabelEncoder"
   ]
  },
  {
   "cell_type": "code",
   "execution_count": 104,
   "metadata": {},
   "outputs": [],
   "source": [
    "encoder = LabelEncoder()"
   ]
  },
  {
   "cell_type": "code",
   "execution_count": 105,
   "metadata": {},
   "outputs": [],
   "source": [
    "train_final['title_label'] = encoder.fit_transform(train_final['title'])"
   ]
  },
  {
   "cell_type": "code",
   "execution_count": 106,
   "metadata": {},
   "outputs": [],
   "source": [
    "train_final['world_label'] = encoder.fit_transform(train_final['world'])"
   ]
  },
  {
   "cell_type": "code",
   "execution_count": 107,
   "metadata": {},
   "outputs": [],
   "source": [
    "train_final.drop(['title', 'world'], axis=1, inplace=True)"
   ]
  },
  {
   "cell_type": "code",
   "execution_count": 108,
   "metadata": {},
   "outputs": [],
   "source": [
    "train_final.set_index('game_session', inplace=True)"
   ]
  },
  {
   "cell_type": "code",
   "execution_count": 109,
   "metadata": {},
   "outputs": [
    {
     "data": {
      "text/html": [
       "<div>\n",
       "<style scoped>\n",
       "    .dataframe tbody tr th:only-of-type {\n",
       "        vertical-align: middle;\n",
       "    }\n",
       "\n",
       "    .dataframe tbody tr th {\n",
       "        vertical-align: top;\n",
       "    }\n",
       "\n",
       "    .dataframe thead th {\n",
       "        text-align: right;\n",
       "    }\n",
       "</style>\n",
       "<table border=\"1\" class=\"dataframe\">\n",
       "  <thead>\n",
       "    <tr style=\"text-align: right;\">\n",
       "      <th></th>\n",
       "      <th>installation_id</th>\n",
       "      <th>event_count</th>\n",
       "      <th>game_time</th>\n",
       "      <th>accuracy_group</th>\n",
       "      <th>total_assesments</th>\n",
       "      <th>title_label</th>\n",
       "      <th>world_label</th>\n",
       "    </tr>\n",
       "    <tr>\n",
       "      <th>game_session</th>\n",
       "      <th></th>\n",
       "      <th></th>\n",
       "      <th></th>\n",
       "      <th></th>\n",
       "      <th></th>\n",
       "      <th></th>\n",
       "      <th></th>\n",
       "    </tr>\n",
       "  </thead>\n",
       "  <tbody>\n",
       "    <tr>\n",
       "      <th>00097cda27afb726</th>\n",
       "      <td>01bdd720</td>\n",
       "      <td>36</td>\n",
       "      <td>27810</td>\n",
       "      <td>3</td>\n",
       "      <td>1</td>\n",
       "      <td>4</td>\n",
       "      <td>2</td>\n",
       "    </tr>\n",
       "    <tr>\n",
       "      <th>000f68cff32664ef</th>\n",
       "      <td>3f0dca37</td>\n",
       "      <td>201</td>\n",
       "      <td>118447</td>\n",
       "      <td>0</td>\n",
       "      <td>1</td>\n",
       "      <td>3</td>\n",
       "      <td>0</td>\n",
       "    </tr>\n",
       "    <tr>\n",
       "      <th>0014403daadf67aa</th>\n",
       "      <td>29d1aaee</td>\n",
       "      <td>79</td>\n",
       "      <td>719990</td>\n",
       "      <td>1</td>\n",
       "      <td>1</td>\n",
       "      <td>0</td>\n",
       "      <td>2</td>\n",
       "    </tr>\n",
       "    <tr>\n",
       "      <th>0014daa1d3e26eb2</th>\n",
       "      <td>55fdf49f</td>\n",
       "      <td>72</td>\n",
       "      <td>61995</td>\n",
       "      <td>1</td>\n",
       "      <td>1</td>\n",
       "      <td>4</td>\n",
       "      <td>2</td>\n",
       "    </tr>\n",
       "    <tr>\n",
       "      <th>001c49e9e9968dbe</th>\n",
       "      <td>19d4b097</td>\n",
       "      <td>43</td>\n",
       "      <td>39023</td>\n",
       "      <td>2</td>\n",
       "      <td>1</td>\n",
       "      <td>0</td>\n",
       "      <td>2</td>\n",
       "    </tr>\n",
       "  </tbody>\n",
       "</table>\n",
       "</div>"
      ],
      "text/plain": [
       "                 installation_id  event_count  game_time  accuracy_group  \\\n",
       "game_session                                                               \n",
       "00097cda27afb726        01bdd720           36      27810               3   \n",
       "000f68cff32664ef        3f0dca37          201     118447               0   \n",
       "0014403daadf67aa        29d1aaee           79     719990               1   \n",
       "0014daa1d3e26eb2        55fdf49f           72      61995               1   \n",
       "001c49e9e9968dbe        19d4b097           43      39023               2   \n",
       "\n",
       "                  total_assesments  title_label  world_label  \n",
       "game_session                                                  \n",
       "00097cda27afb726                 1            4            2  \n",
       "000f68cff32664ef                 1            3            0  \n",
       "0014403daadf67aa                 1            0            2  \n",
       "0014daa1d3e26eb2                 1            4            2  \n",
       "001c49e9e9968dbe                 1            0            2  "
      ]
     },
     "execution_count": 109,
     "metadata": {},
     "output_type": "execute_result"
    }
   ],
   "source": [
    "train_final.head()"
   ]
  },
  {
   "cell_type": "code",
   "execution_count": 110,
   "metadata": {},
   "outputs": [
    {
     "name": "stdout",
     "output_type": "stream",
     "text": [
      "<class 'pandas.core.frame.DataFrame'>\n",
      "Index: 17690 entries, 00097cda27afb726 to fff641eaf483ae2b\n",
      "Data columns (total 7 columns):\n",
      "installation_id     17690 non-null object\n",
      "event_count         17690 non-null int64\n",
      "game_time           17690 non-null int64\n",
      "accuracy_group      17690 non-null int64\n",
      "total_assesments    17690 non-null int64\n",
      "title_label         17690 non-null int64\n",
      "world_label         17690 non-null int64\n",
      "dtypes: int64(6), object(1)\n",
      "memory usage: 1.1+ MB\n"
     ]
    }
   ],
   "source": [
    "train_final.info()"
   ]
  },
  {
   "cell_type": "code",
   "execution_count": null,
   "metadata": {},
   "outputs": [],
   "source": []
  },
  {
   "cell_type": "code",
   "execution_count": null,
   "metadata": {},
   "outputs": [],
   "source": []
  },
  {
   "cell_type": "code",
   "execution_count": null,
   "metadata": {},
   "outputs": [],
   "source": []
  },
  {
   "cell_type": "code",
   "execution_count": 127,
   "metadata": {},
   "outputs": [],
   "source": [
    "test_df = pd.read_csv('test.csv')"
   ]
  },
  {
   "cell_type": "code",
   "execution_count": 129,
   "metadata": {},
   "outputs": [],
   "source": [
    "test_asses = test_df[test_df['type'] == 'Assessment']"
   ]
  },
  {
   "cell_type": "code",
   "execution_count": 131,
   "metadata": {},
   "outputs": [
    {
     "name": "stderr",
     "output_type": "stream",
     "text": [
      "/home/harsh/anaconda3/lib/python3.7/site-packages/pandas/core/frame.py:3940: SettingWithCopyWarning: \n",
      "A value is trying to be set on a copy of a slice from a DataFrame\n",
      "\n",
      "See the caveats in the documentation: http://pandas.pydata.org/pandas-docs/stable/indexing.html#indexing-view-versus-copy\n",
      "  errors=errors)\n"
     ]
    }
   ],
   "source": [
    "test_asses.drop(['timestamp', 'event_data', 'event_id', 'type'], axis=1, inplace=True)"
   ]
  },
  {
   "cell_type": "code",
   "execution_count": 136,
   "metadata": {},
   "outputs": [],
   "source": [
    "test_final = test_asses.groupby('game_session').max()"
   ]
  },
  {
   "cell_type": "code",
   "execution_count": 137,
   "metadata": {},
   "outputs": [],
   "source": [
    "test_final['total_assesments'] = 1"
   ]
  },
  {
   "cell_type": "code",
   "execution_count": 138,
   "metadata": {},
   "outputs": [],
   "source": [
    "test_final['title_label'] = encoder.fit_transform(test_final['title'])"
   ]
  },
  {
   "cell_type": "code",
   "execution_count": 140,
   "metadata": {},
   "outputs": [],
   "source": [
    "test_final['world_label'] = encoder.fit_transform(test_final['world'])"
   ]
  },
  {
   "cell_type": "code",
   "execution_count": 141,
   "metadata": {},
   "outputs": [],
   "source": [
    "test_final.drop(['title', 'world'], axis=1, inplace=True)"
   ]
  },
  {
   "cell_type": "code",
   "execution_count": 142,
   "metadata": {},
   "outputs": [
    {
     "data": {
      "text/html": [
       "<div>\n",
       "<style scoped>\n",
       "    .dataframe tbody tr th:only-of-type {\n",
       "        vertical-align: middle;\n",
       "    }\n",
       "\n",
       "    .dataframe tbody tr th {\n",
       "        vertical-align: top;\n",
       "    }\n",
       "\n",
       "    .dataframe thead th {\n",
       "        text-align: right;\n",
       "    }\n",
       "</style>\n",
       "<table border=\"1\" class=\"dataframe\">\n",
       "  <thead>\n",
       "    <tr style=\"text-align: right;\">\n",
       "      <th></th>\n",
       "      <th>installation_id</th>\n",
       "      <th>event_count</th>\n",
       "      <th>event_code</th>\n",
       "      <th>game_time</th>\n",
       "      <th>total_assesments</th>\n",
       "      <th>title_label</th>\n",
       "      <th>world_label</th>\n",
       "    </tr>\n",
       "    <tr>\n",
       "      <th>game_session</th>\n",
       "      <th></th>\n",
       "      <th></th>\n",
       "      <th></th>\n",
       "      <th></th>\n",
       "      <th></th>\n",
       "      <th></th>\n",
       "      <th></th>\n",
       "    </tr>\n",
       "  </thead>\n",
       "  <tbody>\n",
       "    <tr>\n",
       "      <th>001a139acd7fce92</th>\n",
       "      <td>285b65c8</td>\n",
       "      <td>130</td>\n",
       "      <td>4110</td>\n",
       "      <td>181512</td>\n",
       "      <td>1</td>\n",
       "      <td>0</td>\n",
       "      <td>2</td>\n",
       "    </tr>\n",
       "    <tr>\n",
       "      <th>003bafadf2259738</th>\n",
       "      <td>56a739ec</td>\n",
       "      <td>74</td>\n",
       "      <td>4110</td>\n",
       "      <td>168622</td>\n",
       "      <td>1</td>\n",
       "      <td>0</td>\n",
       "      <td>2</td>\n",
       "    </tr>\n",
       "    <tr>\n",
       "      <th>006b058c3bba11a2</th>\n",
       "      <td>d95dc7cb</td>\n",
       "      <td>35</td>\n",
       "      <td>4100</td>\n",
       "      <td>33373</td>\n",
       "      <td>1</td>\n",
       "      <td>4</td>\n",
       "      <td>2</td>\n",
       "    </tr>\n",
       "    <tr>\n",
       "      <th>007195dd54b7c251</th>\n",
       "      <td>6cd8f2d8</td>\n",
       "      <td>27</td>\n",
       "      <td>4100</td>\n",
       "      <td>34553</td>\n",
       "      <td>1</td>\n",
       "      <td>1</td>\n",
       "      <td>0</td>\n",
       "    </tr>\n",
       "    <tr>\n",
       "      <th>007b28de31382377</th>\n",
       "      <td>ce08e98b</td>\n",
       "      <td>47</td>\n",
       "      <td>4100</td>\n",
       "      <td>32339</td>\n",
       "      <td>1</td>\n",
       "      <td>4</td>\n",
       "      <td>2</td>\n",
       "    </tr>\n",
       "  </tbody>\n",
       "</table>\n",
       "</div>"
      ],
      "text/plain": [
       "                 installation_id  event_count  event_code  game_time  \\\n",
       "game_session                                                           \n",
       "001a139acd7fce92        285b65c8          130        4110     181512   \n",
       "003bafadf2259738        56a739ec           74        4110     168622   \n",
       "006b058c3bba11a2        d95dc7cb           35        4100      33373   \n",
       "007195dd54b7c251        6cd8f2d8           27        4100      34553   \n",
       "007b28de31382377        ce08e98b           47        4100      32339   \n",
       "\n",
       "                  total_assesments  title_label  world_label  \n",
       "game_session                                                  \n",
       "001a139acd7fce92                 1            0            2  \n",
       "003bafadf2259738                 1            0            2  \n",
       "006b058c3bba11a2                 1            4            2  \n",
       "007195dd54b7c251                 1            1            0  \n",
       "007b28de31382377                 1            4            2  "
      ]
     },
     "execution_count": 142,
     "metadata": {},
     "output_type": "execute_result"
    }
   ],
   "source": [
    "test_final.head()"
   ]
  },
  {
   "cell_type": "code",
   "execution_count": null,
   "metadata": {},
   "outputs": [],
   "source": []
  },
  {
   "cell_type": "markdown",
   "metadata": {},
   "source": [
    "# Model Training and Cross Validation"
   ]
  },
  {
   "cell_type": "code",
   "execution_count": 111,
   "metadata": {},
   "outputs": [],
   "source": [
    "features = train_final.columns.drop(['accuracy_group', 'installation_id', 'total_assesments'])"
   ]
  },
  {
   "cell_type": "code",
   "execution_count": 113,
   "metadata": {},
   "outputs": [],
   "source": [
    "X = train_final[features]\n",
    "y = train_final['accuracy_group']"
   ]
  },
  {
   "cell_type": "code",
   "execution_count": 114,
   "metadata": {},
   "outputs": [
    {
     "data": {
      "text/html": [
       "<div>\n",
       "<style scoped>\n",
       "    .dataframe tbody tr th:only-of-type {\n",
       "        vertical-align: middle;\n",
       "    }\n",
       "\n",
       "    .dataframe tbody tr th {\n",
       "        vertical-align: top;\n",
       "    }\n",
       "\n",
       "    .dataframe thead th {\n",
       "        text-align: right;\n",
       "    }\n",
       "</style>\n",
       "<table border=\"1\" class=\"dataframe\">\n",
       "  <thead>\n",
       "    <tr style=\"text-align: right;\">\n",
       "      <th></th>\n",
       "      <th>event_count</th>\n",
       "      <th>game_time</th>\n",
       "      <th>title_label</th>\n",
       "      <th>world_label</th>\n",
       "    </tr>\n",
       "    <tr>\n",
       "      <th>game_session</th>\n",
       "      <th></th>\n",
       "      <th></th>\n",
       "      <th></th>\n",
       "      <th></th>\n",
       "    </tr>\n",
       "  </thead>\n",
       "  <tbody>\n",
       "    <tr>\n",
       "      <th>00097cda27afb726</th>\n",
       "      <td>36</td>\n",
       "      <td>27810</td>\n",
       "      <td>4</td>\n",
       "      <td>2</td>\n",
       "    </tr>\n",
       "    <tr>\n",
       "      <th>000f68cff32664ef</th>\n",
       "      <td>201</td>\n",
       "      <td>118447</td>\n",
       "      <td>3</td>\n",
       "      <td>0</td>\n",
       "    </tr>\n",
       "    <tr>\n",
       "      <th>0014403daadf67aa</th>\n",
       "      <td>79</td>\n",
       "      <td>719990</td>\n",
       "      <td>0</td>\n",
       "      <td>2</td>\n",
       "    </tr>\n",
       "    <tr>\n",
       "      <th>0014daa1d3e26eb2</th>\n",
       "      <td>72</td>\n",
       "      <td>61995</td>\n",
       "      <td>4</td>\n",
       "      <td>2</td>\n",
       "    </tr>\n",
       "    <tr>\n",
       "      <th>001c49e9e9968dbe</th>\n",
       "      <td>43</td>\n",
       "      <td>39023</td>\n",
       "      <td>0</td>\n",
       "      <td>2</td>\n",
       "    </tr>\n",
       "  </tbody>\n",
       "</table>\n",
       "</div>"
      ],
      "text/plain": [
       "                  event_count  game_time  title_label  world_label\n",
       "game_session                                                      \n",
       "00097cda27afb726           36      27810            4            2\n",
       "000f68cff32664ef          201     118447            3            0\n",
       "0014403daadf67aa           79     719990            0            2\n",
       "0014daa1d3e26eb2           72      61995            4            2\n",
       "001c49e9e9968dbe           43      39023            0            2"
      ]
     },
     "execution_count": 114,
     "metadata": {},
     "output_type": "execute_result"
    }
   ],
   "source": [
    "X.head()"
   ]
  },
  {
   "cell_type": "code",
   "execution_count": 115,
   "metadata": {},
   "outputs": [],
   "source": [
    "from sklearn.model_selection import train_test_split"
   ]
  },
  {
   "cell_type": "code",
   "execution_count": 116,
   "metadata": {},
   "outputs": [],
   "source": [
    "X_train, X_cv, y_train, y_cv = train_test_split(X, y, test_size=0.33, random_state=42)"
   ]
  },
  {
   "cell_type": "code",
   "execution_count": 117,
   "metadata": {},
   "outputs": [],
   "source": [
    "from sklearn.ensemble import RandomForestClassifier"
   ]
  },
  {
   "cell_type": "code",
   "execution_count": 118,
   "metadata": {},
   "outputs": [],
   "source": [
    "rfc = RandomForestClassifier(n_estimators=200)"
   ]
  },
  {
   "cell_type": "code",
   "execution_count": 119,
   "metadata": {},
   "outputs": [
    {
     "data": {
      "text/plain": [
       "RandomForestClassifier(bootstrap=True, class_weight=None, criterion='gini',\n",
       "            max_depth=None, max_features='auto', max_leaf_nodes=None,\n",
       "            min_impurity_decrease=0.0, min_impurity_split=None,\n",
       "            min_samples_leaf=1, min_samples_split=2,\n",
       "            min_weight_fraction_leaf=0.0, n_estimators=200, n_jobs=None,\n",
       "            oob_score=False, random_state=None, verbose=0,\n",
       "            warm_start=False)"
      ]
     },
     "execution_count": 119,
     "metadata": {},
     "output_type": "execute_result"
    }
   ],
   "source": [
    "rfc.fit(X_train, y_train)"
   ]
  },
  {
   "cell_type": "code",
   "execution_count": 121,
   "metadata": {},
   "outputs": [],
   "source": [
    "rfc_preds = rfc.predict(X_cv)"
   ]
  },
  {
   "cell_type": "code",
   "execution_count": 122,
   "metadata": {},
   "outputs": [],
   "source": [
    "from sklearn.metrics import classification_report, confusion_matrix"
   ]
  },
  {
   "cell_type": "code",
   "execution_count": 123,
   "metadata": {},
   "outputs": [
    {
     "name": "stdout",
     "output_type": "stream",
     "text": [
      "              precision    recall  f1-score   support\n",
      "\n",
      "           0       0.54      0.50      0.52      1419\n",
      "           1       0.39      0.41      0.40       763\n",
      "           2       0.25      0.22      0.23       742\n",
      "           3       0.74      0.78      0.76      2914\n",
      "\n",
      "   micro avg       0.59      0.59      0.59      5838\n",
      "   macro avg       0.48      0.48      0.48      5838\n",
      "weighted avg       0.58      0.59      0.59      5838\n",
      "\n"
     ]
    }
   ],
   "source": [
    "print(classification_report(y_cv, rfc_preds))"
   ]
  },
  {
   "cell_type": "code",
   "execution_count": 124,
   "metadata": {},
   "outputs": [
    {
     "name": "stdout",
     "output_type": "stream",
     "text": [
      "[[ 707  241  128  343]\n",
      " [ 213  314  118  118]\n",
      " [ 134  126  164  318]\n",
      " [ 261  133  258 2262]]\n"
     ]
    }
   ],
   "source": [
    "print(confusion_matrix(y_cv, rfc_preds))"
   ]
  },
  {
   "cell_type": "code",
   "execution_count": 125,
   "metadata": {},
   "outputs": [],
   "source": [
    "from sklearn.metrics import cohen_kappa_score"
   ]
  },
  {
   "cell_type": "code",
   "execution_count": 126,
   "metadata": {},
   "outputs": [
    {
     "name": "stdout",
     "output_type": "stream",
     "text": [
      "0.5231085037000176\n"
     ]
    }
   ],
   "source": [
    "qwk = cohen_kappa_score(y_cv, rfc_preds, weights='quadratic')\n",
    "print(qwk)"
   ]
  },
  {
   "cell_type": "code",
   "execution_count": null,
   "metadata": {},
   "outputs": [],
   "source": []
  },
  {
   "cell_type": "code",
   "execution_count": null,
   "metadata": {},
   "outputs": [],
   "source": []
  },
  {
   "cell_type": "markdown",
   "metadata": {},
   "source": [
    "# Test and Submit"
   ]
  },
  {
   "cell_type": "code",
   "execution_count": 185,
   "metadata": {},
   "outputs": [],
   "source": [
    "rfc.fit(X, y)\n",
    "rfc_test = rfc.predict(test_final[features])"
   ]
  },
  {
   "cell_type": "code",
   "execution_count": 186,
   "metadata": {},
   "outputs": [],
   "source": [
    "test_final['accuracy_group'] = rfc_test"
   ]
  },
  {
   "cell_type": "code",
   "execution_count": 187,
   "metadata": {},
   "outputs": [
    {
     "data": {
      "text/html": [
       "<div>\n",
       "<style scoped>\n",
       "    .dataframe tbody tr th:only-of-type {\n",
       "        vertical-align: middle;\n",
       "    }\n",
       "\n",
       "    .dataframe tbody tr th {\n",
       "        vertical-align: top;\n",
       "    }\n",
       "\n",
       "    .dataframe thead th {\n",
       "        text-align: right;\n",
       "    }\n",
       "</style>\n",
       "<table border=\"1\" class=\"dataframe\">\n",
       "  <thead>\n",
       "    <tr style=\"text-align: right;\">\n",
       "      <th></th>\n",
       "      <th>installation_id</th>\n",
       "      <th>event_count</th>\n",
       "      <th>event_code</th>\n",
       "      <th>game_time</th>\n",
       "      <th>total_assesments</th>\n",
       "      <th>title_label</th>\n",
       "      <th>world_label</th>\n",
       "      <th>accuracy_group</th>\n",
       "    </tr>\n",
       "    <tr>\n",
       "      <th>game_session</th>\n",
       "      <th></th>\n",
       "      <th></th>\n",
       "      <th></th>\n",
       "      <th></th>\n",
       "      <th></th>\n",
       "      <th></th>\n",
       "      <th></th>\n",
       "      <th></th>\n",
       "    </tr>\n",
       "  </thead>\n",
       "  <tbody>\n",
       "    <tr>\n",
       "      <th>001a139acd7fce92</th>\n",
       "      <td>285b65c8</td>\n",
       "      <td>130</td>\n",
       "      <td>4110</td>\n",
       "      <td>181512</td>\n",
       "      <td>1</td>\n",
       "      <td>0</td>\n",
       "      <td>2</td>\n",
       "      <td>1</td>\n",
       "    </tr>\n",
       "    <tr>\n",
       "      <th>003bafadf2259738</th>\n",
       "      <td>56a739ec</td>\n",
       "      <td>74</td>\n",
       "      <td>4110</td>\n",
       "      <td>168622</td>\n",
       "      <td>1</td>\n",
       "      <td>0</td>\n",
       "      <td>2</td>\n",
       "      <td>0</td>\n",
       "    </tr>\n",
       "    <tr>\n",
       "      <th>006b058c3bba11a2</th>\n",
       "      <td>d95dc7cb</td>\n",
       "      <td>35</td>\n",
       "      <td>4100</td>\n",
       "      <td>33373</td>\n",
       "      <td>1</td>\n",
       "      <td>4</td>\n",
       "      <td>2</td>\n",
       "      <td>3</td>\n",
       "    </tr>\n",
       "    <tr>\n",
       "      <th>007195dd54b7c251</th>\n",
       "      <td>6cd8f2d8</td>\n",
       "      <td>27</td>\n",
       "      <td>4100</td>\n",
       "      <td>34553</td>\n",
       "      <td>1</td>\n",
       "      <td>1</td>\n",
       "      <td>0</td>\n",
       "      <td>3</td>\n",
       "    </tr>\n",
       "    <tr>\n",
       "      <th>007b28de31382377</th>\n",
       "      <td>ce08e98b</td>\n",
       "      <td>47</td>\n",
       "      <td>4100</td>\n",
       "      <td>32339</td>\n",
       "      <td>1</td>\n",
       "      <td>4</td>\n",
       "      <td>2</td>\n",
       "      <td>3</td>\n",
       "    </tr>\n",
       "  </tbody>\n",
       "</table>\n",
       "</div>"
      ],
      "text/plain": [
       "                 installation_id  event_count  event_code  game_time  \\\n",
       "game_session                                                           \n",
       "001a139acd7fce92        285b65c8          130        4110     181512   \n",
       "003bafadf2259738        56a739ec           74        4110     168622   \n",
       "006b058c3bba11a2        d95dc7cb           35        4100      33373   \n",
       "007195dd54b7c251        6cd8f2d8           27        4100      34553   \n",
       "007b28de31382377        ce08e98b           47        4100      32339   \n",
       "\n",
       "                  total_assesments  title_label  world_label  accuracy_group  \n",
       "game_session                                                                  \n",
       "001a139acd7fce92                 1            0            2               1  \n",
       "003bafadf2259738                 1            0            2               0  \n",
       "006b058c3bba11a2                 1            4            2               3  \n",
       "007195dd54b7c251                 1            1            0               3  \n",
       "007b28de31382377                 1            4            2               3  "
      ]
     },
     "execution_count": 187,
     "metadata": {},
     "output_type": "execute_result"
    }
   ],
   "source": [
    "test_final.head()"
   ]
  },
  {
   "cell_type": "code",
   "execution_count": 196,
   "metadata": {},
   "outputs": [],
   "source": [
    "test_fn = test_final.groupby('installation_id').sum()"
   ]
  },
  {
   "cell_type": "code",
   "execution_count": 197,
   "metadata": {},
   "outputs": [
    {
     "data": {
      "text/html": [
       "<div>\n",
       "<style scoped>\n",
       "    .dataframe tbody tr th:only-of-type {\n",
       "        vertical-align: middle;\n",
       "    }\n",
       "\n",
       "    .dataframe tbody tr th {\n",
       "        vertical-align: top;\n",
       "    }\n",
       "\n",
       "    .dataframe thead th {\n",
       "        text-align: right;\n",
       "    }\n",
       "</style>\n",
       "<table border=\"1\" class=\"dataframe\">\n",
       "  <thead>\n",
       "    <tr style=\"text-align: right;\">\n",
       "      <th></th>\n",
       "      <th>event_count</th>\n",
       "      <th>event_code</th>\n",
       "      <th>game_time</th>\n",
       "      <th>total_assesments</th>\n",
       "      <th>title_label</th>\n",
       "      <th>world_label</th>\n",
       "      <th>accuracy_group</th>\n",
       "    </tr>\n",
       "    <tr>\n",
       "      <th>installation_id</th>\n",
       "      <th></th>\n",
       "      <th></th>\n",
       "      <th></th>\n",
       "      <th></th>\n",
       "      <th></th>\n",
       "      <th></th>\n",
       "      <th></th>\n",
       "    </tr>\n",
       "  </thead>\n",
       "  <tbody>\n",
       "    <tr>\n",
       "      <th>00abaee7</th>\n",
       "      <td>27</td>\n",
       "      <td>6100</td>\n",
       "      <td>30038</td>\n",
       "      <td>2</td>\n",
       "      <td>3</td>\n",
       "      <td>1</td>\n",
       "      <td>2</td>\n",
       "    </tr>\n",
       "    <tr>\n",
       "      <th>01242218</th>\n",
       "      <td>245</td>\n",
       "      <td>22510</td>\n",
       "      <td>251298</td>\n",
       "      <td>6</td>\n",
       "      <td>11</td>\n",
       "      <td>5</td>\n",
       "      <td>11</td>\n",
       "    </tr>\n",
       "    <tr>\n",
       "      <th>017c5718</th>\n",
       "      <td>1</td>\n",
       "      <td>2000</td>\n",
       "      <td>0</td>\n",
       "      <td>1</td>\n",
       "      <td>4</td>\n",
       "      <td>2</td>\n",
       "      <td>0</td>\n",
       "    </tr>\n",
       "    <tr>\n",
       "      <th>01a44906</th>\n",
       "      <td>1</td>\n",
       "      <td>2000</td>\n",
       "      <td>0</td>\n",
       "      <td>1</td>\n",
       "      <td>4</td>\n",
       "      <td>2</td>\n",
       "      <td>0</td>\n",
       "    </tr>\n",
       "    <tr>\n",
       "      <th>01bc6cb6</th>\n",
       "      <td>1</td>\n",
       "      <td>2000</td>\n",
       "      <td>0</td>\n",
       "      <td>1</td>\n",
       "      <td>1</td>\n",
       "      <td>0</td>\n",
       "      <td>0</td>\n",
       "    </tr>\n",
       "  </tbody>\n",
       "</table>\n",
       "</div>"
      ],
      "text/plain": [
       "                 event_count  event_code  game_time  total_assesments  \\\n",
       "installation_id                                                         \n",
       "00abaee7                  27        6100      30038                 2   \n",
       "01242218                 245       22510     251298                 6   \n",
       "017c5718                   1        2000          0                 1   \n",
       "01a44906                   1        2000          0                 1   \n",
       "01bc6cb6                   1        2000          0                 1   \n",
       "\n",
       "                 title_label  world_label  accuracy_group  \n",
       "installation_id                                            \n",
       "00abaee7                   3            1               2  \n",
       "01242218                  11            5              11  \n",
       "017c5718                   4            2               0  \n",
       "01a44906                   4            2               0  \n",
       "01bc6cb6                   1            0               0  "
      ]
     },
     "execution_count": 197,
     "metadata": {},
     "output_type": "execute_result"
    }
   ],
   "source": [
    "test_fn.head()"
   ]
  },
  {
   "cell_type": "code",
   "execution_count": 198,
   "metadata": {},
   "outputs": [
    {
     "data": {
      "text/plain": [
       "array([  2,  11,   0,   3,  13,   1,   6,  10,  27,  12,  20,  43,   7,\n",
       "        15,  16,  18,   5,   9,  24,   4,   8,  26,  21,  29,  56,  14,\n",
       "        19,  17, 107,  66,  48,  23,  37,  78,  40,  36,  22,  32,  39,\n",
       "        30,  25,  33])"
      ]
     },
     "execution_count": 198,
     "metadata": {},
     "output_type": "execute_result"
    }
   ],
   "source": [
    "test_fn['accuracy_group'].unique()"
   ]
  },
  {
   "cell_type": "code",
   "execution_count": 199,
   "metadata": {},
   "outputs": [],
   "source": [
    "def acc_grp(row):\n",
    "    row['acc'] = row['accuracy_group']/ row['total_assesments']\n",
    "    if row['acc'] > 2.33: row['accuracy_group'] = 3\n",
    "    elif row['acc'] > 1.67: row['accuracy_group'] = 2\n",
    "    elif row['acc'] > 0.0: row['accuracy_group'] = 1\n",
    "    else: row['accuracy_group'] = 0\n",
    "    return row"
   ]
  },
  {
   "cell_type": "code",
   "execution_count": 200,
   "metadata": {},
   "outputs": [],
   "source": [
    "test_fn = test_fn.apply(acc_grp, axis=1)"
   ]
  },
  {
   "cell_type": "code",
   "execution_count": 201,
   "metadata": {
    "scrolled": true
   },
   "outputs": [
    {
     "data": {
      "text/html": [
       "<div>\n",
       "<style scoped>\n",
       "    .dataframe tbody tr th:only-of-type {\n",
       "        vertical-align: middle;\n",
       "    }\n",
       "\n",
       "    .dataframe tbody tr th {\n",
       "        vertical-align: top;\n",
       "    }\n",
       "\n",
       "    .dataframe thead th {\n",
       "        text-align: right;\n",
       "    }\n",
       "</style>\n",
       "<table border=\"1\" class=\"dataframe\">\n",
       "  <thead>\n",
       "    <tr style=\"text-align: right;\">\n",
       "      <th></th>\n",
       "      <th>event_count</th>\n",
       "      <th>event_code</th>\n",
       "      <th>game_time</th>\n",
       "      <th>total_assesments</th>\n",
       "      <th>title_label</th>\n",
       "      <th>world_label</th>\n",
       "      <th>accuracy_group</th>\n",
       "      <th>acc</th>\n",
       "    </tr>\n",
       "    <tr>\n",
       "      <th>installation_id</th>\n",
       "      <th></th>\n",
       "      <th></th>\n",
       "      <th></th>\n",
       "      <th></th>\n",
       "      <th></th>\n",
       "      <th></th>\n",
       "      <th></th>\n",
       "      <th></th>\n",
       "    </tr>\n",
       "  </thead>\n",
       "  <tbody>\n",
       "    <tr>\n",
       "      <th>00abaee7</th>\n",
       "      <td>27.0</td>\n",
       "      <td>6100.0</td>\n",
       "      <td>30038.0</td>\n",
       "      <td>2.0</td>\n",
       "      <td>3.0</td>\n",
       "      <td>1.0</td>\n",
       "      <td>1.0</td>\n",
       "      <td>1.000000</td>\n",
       "    </tr>\n",
       "    <tr>\n",
       "      <th>01242218</th>\n",
       "      <td>245.0</td>\n",
       "      <td>22510.0</td>\n",
       "      <td>251298.0</td>\n",
       "      <td>6.0</td>\n",
       "      <td>11.0</td>\n",
       "      <td>5.0</td>\n",
       "      <td>2.0</td>\n",
       "      <td>1.833333</td>\n",
       "    </tr>\n",
       "    <tr>\n",
       "      <th>017c5718</th>\n",
       "      <td>1.0</td>\n",
       "      <td>2000.0</td>\n",
       "      <td>0.0</td>\n",
       "      <td>1.0</td>\n",
       "      <td>4.0</td>\n",
       "      <td>2.0</td>\n",
       "      <td>0.0</td>\n",
       "      <td>0.000000</td>\n",
       "    </tr>\n",
       "    <tr>\n",
       "      <th>01a44906</th>\n",
       "      <td>1.0</td>\n",
       "      <td>2000.0</td>\n",
       "      <td>0.0</td>\n",
       "      <td>1.0</td>\n",
       "      <td>4.0</td>\n",
       "      <td>2.0</td>\n",
       "      <td>0.0</td>\n",
       "      <td>0.000000</td>\n",
       "    </tr>\n",
       "    <tr>\n",
       "      <th>01bc6cb6</th>\n",
       "      <td>1.0</td>\n",
       "      <td>2000.0</td>\n",
       "      <td>0.0</td>\n",
       "      <td>1.0</td>\n",
       "      <td>1.0</td>\n",
       "      <td>0.0</td>\n",
       "      <td>0.0</td>\n",
       "      <td>0.000000</td>\n",
       "    </tr>\n",
       "  </tbody>\n",
       "</table>\n",
       "</div>"
      ],
      "text/plain": [
       "                 event_count  event_code  game_time  total_assesments  \\\n",
       "installation_id                                                         \n",
       "00abaee7                27.0      6100.0    30038.0               2.0   \n",
       "01242218               245.0     22510.0   251298.0               6.0   \n",
       "017c5718                 1.0      2000.0        0.0               1.0   \n",
       "01a44906                 1.0      2000.0        0.0               1.0   \n",
       "01bc6cb6                 1.0      2000.0        0.0               1.0   \n",
       "\n",
       "                 title_label  world_label  accuracy_group       acc  \n",
       "installation_id                                                      \n",
       "00abaee7                 3.0          1.0             1.0  1.000000  \n",
       "01242218                11.0          5.0             2.0  1.833333  \n",
       "017c5718                 4.0          2.0             0.0  0.000000  \n",
       "01a44906                 4.0          2.0             0.0  0.000000  \n",
       "01bc6cb6                 1.0          0.0             0.0  0.000000  "
      ]
     },
     "execution_count": 201,
     "metadata": {},
     "output_type": "execute_result"
    }
   ],
   "source": [
    "test_fn.head()"
   ]
  },
  {
   "cell_type": "code",
   "execution_count": 206,
   "metadata": {},
   "outputs": [],
   "source": [
    "test_fn['accuracy_group'] = test_fn['accuracy_group'].apply(lambda x: int(x))"
   ]
  },
  {
   "cell_type": "code",
   "execution_count": 208,
   "metadata": {},
   "outputs": [
    {
     "data": {
      "text/plain": [
       "array([1, 2, 0, 3])"
      ]
     },
     "execution_count": 208,
     "metadata": {},
     "output_type": "execute_result"
    }
   ],
   "source": [
    "test_fn['accuracy_group'].unique()"
   ]
  },
  {
   "cell_type": "code",
   "execution_count": null,
   "metadata": {},
   "outputs": [],
   "source": []
  }
 ],
 "metadata": {
  "kernelspec": {
   "display_name": "Python 3",
   "language": "python",
   "name": "python3"
  },
  "language_info": {
   "codemirror_mode": {
    "name": "ipython",
    "version": 3
   },
   "file_extension": ".py",
   "mimetype": "text/x-python",
   "name": "python",
   "nbconvert_exporter": "python",
   "pygments_lexer": "ipython3",
   "version": "3.7.3"
  }
 },
 "nbformat": 4,
 "nbformat_minor": 2
}
